{
 "cells": [
  {
   "cell_type": "code",
   "execution_count": null,
   "id": "3707db47",
   "metadata": {},
   "outputs": [
    {
     "name": "stdout",
     "output_type": "stream",
     "text": [
      "Easting: 281267.671, Northing: 4269739.183\n"
     ]
    }
   ],
   "source": [
    "from pyproj import Transformer\n",
    "import re\n",
    "\n",
    "def dms_to_decimal(dms_str):\n",
    "    \"\"\"\n",
    "    Convert a DMS (Degrees, Minutes, Seconds) string to decimal degrees.\n",
    "    E.g., \"38 32’ 57.108” N\" or \"119 30’ 35.952” W\"\n",
    "    \"\"\"\n",
    "    # Extract DMS components using regex\n",
    "    match = re.match(r\"(\\d+)[^\\d]+(\\d+)[^\\d]+([\\d.]+)[^\\d\\w]*([NSEW])\", dms_str.strip(), re.IGNORECASE)\n",
    "    if not match:\n",
    "        raise ValueError(f\"Invalid DMS format: {dms_str}\")\n",
    "\n",
    "    degrees, minutes, seconds, direction = match.groups()\n",
    "    decimal = float(degrees) + float(minutes)/60 + float(seconds)/3600\n",
    "    if direction.upper() in ['S', 'W']:\n",
    "        decimal *= -1\n",
    "    return decimal\n",
    "\n",
    "def convert_dms_to_epsg6340(lat_dms, lon_dms):\n",
    "    \"\"\"\n",
    "    Convert latitude and longitude in DMS format to EPSG:6340 coordinates.\n",
    "    \n",
    "    Parameters:\n",
    "    - lat_dms: Latitude string in DMS format (e.g., \"38 32’ 57.108” N\")\n",
    "    - lon_dms: Longitude string in DMS format (e.g., \"119 30’ 35.952” W\")\n",
    "    \n",
    "    Returns:\n",
    "    - (easting, northing): Projected coordinates in EPSG:6340\n",
    "    \"\"\"\n",
    "    lat = dms_to_decimal(lat_dms)\n",
    "    lon = dms_to_decimal(lon_dms)\n",
    "    transformer = Transformer.from_crs(\"EPSG:4326\", \"EPSG:6340\", always_xy=True)\n",
    "    easting, northing = transformer.transform(lon, lat)\n",
    "    return easting, northing\n",
    "\n",
    "# Example usage\n",
    "lat_dms = \"38 32’ 57.108” N\"\n",
    "lon_dms = \"119 30’ 35.952” W\"\n",
    "x, y = convert_dms_to_epsg6340(lat_dms, lon_dms)\n",
    "print(f\"Easting: {x:.3f}, Northing: {y:.3f}\")\n",
    "\n",
    "lat_dms = \"38 32’ 57.108” N\"\n",
    "lon_dms = \"119 30’ 35.952” W\"\n",
    "x, y = convert_dms_to_epsg6340(lat_dms, lon_dms)\n",
    "print(f\"Easting: {x:.3f}, Northing: {y:.3f}\")"
   ]
  },
  {
   "cell_type": "code",
   "execution_count": null,
   "id": "097d5744",
   "metadata": {},
   "outputs": [
    {
     "name": "stdout",
     "output_type": "stream",
     "text": [
      "Easting: 281282.682, Northing: 4269762.912\n",
      "Easting: 281295.781, Northing: 4269769.885\n"
     ]
    }
   ],
   "source": [
    "from pyproj import Transformer\n",
    "\n",
    "def wgs84_to_epsg6340(lat, lon):\n",
    "    \"\"\"\n",
    "    Convert WGS84 latitude and longitude to EPSG:6340 (UTM Zone 11N, NAD83(2011)).\n",
    "\n",
    "    Parameters:\n",
    "    - lat: Latitude in decimal degrees\n",
    "    - lon: Longitude in decimal degrees\n",
    "\n",
    "    Returns:\n",
    "    - (easting, northing): Coordinates in EPSG:6340\n",
    "    \"\"\"\n",
    "    transformer = Transformer.from_crs(\"EPSG:4326\", \"EPSG:6340\", always_xy=True)\n",
    "    easting, northing = transformer.transform(lon, lat)\n",
    "    return easting, northing\n",
    "\n",
    "# Example usage:\n",
    "# lat, lon = 34.05, -118.25  # Los Angeles\n",
    "# x, y = wgs84_to_epsg6340(lat, lon)\n",
    "# print(x, y)\n",
    "\n",
    "lat = 38.549414\n",
    "lon = -119.509822\n",
    "x, y = wgs84_to_epsg6340(lat, lon)\n",
    "print(f\"Easting: {x:.3f}, Northing: {y:.3f}\")\n",
    "\n",
    "lat = 38.549480\n",
    "lon = -119.509674\n",
    "x, y = wgs84_to_epsg6340(lat, lon)\n",
    "print(f\"Easting: {x:.3f}, Northing: {y:.3f}\")"
   ]
  }
 ],
 "metadata": {
  "kernelspec": {
   "display_name": "pbr_statistics",
   "language": "python",
   "name": "python3"
  },
  "language_info": {
   "codemirror_mode": {
    "name": "ipython",
    "version": 3
   },
   "file_extension": ".py",
   "mimetype": "text/x-python",
   "name": "python",
   "nbconvert_exporter": "python",
   "pygments_lexer": "ipython3",
   "version": "3.11.11"
  }
 },
 "nbformat": 4,
 "nbformat_minor": 5
}
